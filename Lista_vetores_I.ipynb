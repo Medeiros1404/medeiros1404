{
  "nbformat": 4,
  "nbformat_minor": 0,
  "metadata": {
    "colab": {
      "provenance": [],
      "include_colab_link": true
    },
    "kernelspec": {
      "name": "python3",
      "display_name": "Python 3"
    },
    "language_info": {
      "name": "python"
    }
  },
  "cells": [
    {
      "cell_type": "markdown",
      "metadata": {
        "id": "view-in-github",
        "colab_type": "text"
      },
      "source": [
        "<a href=\"https://colab.research.google.com/github/Medeiros1404/medeiros1404/blob/main/Lista_vetores_I.ipynb\" target=\"_parent\"><img src=\"https://colab.research.google.com/assets/colab-badge.svg\" alt=\"Open In Colab\"/></a>"
      ]
    },
    {
      "cell_type": "markdown",
      "source": [
        "1 - Escreva um programa que leia 10 números inteiros, armazene-os em um vetor e\n",
        "mostre-os na tela"
      ],
      "metadata": {
        "id": "j0O3Nl2uZOqt"
      }
    },
    {
      "cell_type": "code",
      "execution_count": null,
      "metadata": {
        "colab": {
          "base_uri": "https://localhost:8080/"
        },
        "id": "4vHQlth4Pnw2",
        "outputId": "47363b8f-65e3-4bd3-8904-3d9e71cfc662"
      },
      "outputs": [
        {
          "output_type": "stream",
          "name": "stdout",
          "text": [
            "Digite o valor:1\n",
            "Digite o valor:5\n",
            "Digite o valor:7\n",
            "Digite o valor:9\n",
            "Digite o valor:8\n",
            "Digite o valor:7\n",
            "Digite o valor:41\n",
            "Digite o valor:52\n",
            "Digite o valor:41\n",
            "Digite o valor:54\n",
            "[1, 5, 7, 9, 8, 7, 41, 52, 41, 54]\n"
          ]
        }
      ],
      "source": [
        "lista  = [ ]\n",
        "i = 0\n",
        "while i < 10:\n",
        "  x = int(input(\"Digite o valor:\"))\n",
        "  lista.append(x)\n",
        "  i = i + 1\n",
        "\n",
        "print(lista)\n"
      ]
    },
    {
      "cell_type": "markdown",
      "source": [
        "2 - Escreva um programa que leia 15 números reais, armazene-os em um vetor e\n",
        "mostre-os na tela\n"
      ],
      "metadata": {
        "id": "2Zc8O-ZIZT0s"
      }
    },
    {
      "cell_type": "code",
      "source": [
        "lista  = [ ]\n",
        "i = 0\n",
        "while i < 15:\n",
        "  x = float(input(\"Digite o valor:\"))\n",
        "  lista.append(x)\n",
        "  i = i + 1\n",
        "\n",
        "print(lista)"
      ],
      "metadata": {
        "colab": {
          "base_uri": "https://localhost:8080/"
        },
        "id": "yyafdmTtZZ39",
        "outputId": "176e5bf2-d013-4a4f-c04f-b85afbaed984"
      },
      "execution_count": null,
      "outputs": [
        {
          "output_type": "stream",
          "name": "stdout",
          "text": [
            "Digite o valor:5\n",
            "Digite o valor:6\n",
            "Digite o valor:8\n",
            "Digite o valor:12\n",
            "Digite o valor:32\n",
            "Digite o valor:45\n",
            "Digite o valor:65\n",
            "Digite o valor:8\n",
            "Digite o valor:8\n",
            "Digite o valor:9\n",
            "Digite o valor:41\n",
            "Digite o valor:25\n",
            "Digite o valor:24\n",
            "Digite o valor:14\n",
            "Digite o valor:25\n",
            "[5.0, 6.0, 8.0, 12.0, 32.0, 45.0, 65.0, 8.0, 8.0, 9.0, 41.0, 25.0, 24.0, 14.0, 25.0]\n"
          ]
        }
      ]
    },
    {
      "cell_type": "markdown",
      "source": [
        "3 - Escreva um programa que leia 10 números inteiros, armazene-os em um vetor e\n",
        "mostre-os em ordem inversa na tela"
      ],
      "metadata": {
        "id": "XDuQum6ZZrF0"
      }
    },
    {
      "cell_type": "code",
      "source": [
        "T1 = int(input(\"Digite a nota do Trabalho1:\"))\n",
        "T2 = int(input(\"Digite a nota do Trabalho2:\"))\n",
        "T3 = int(input(\"Digite a nota do Trabalho3:\"))\n",
        "P1 = int(input(\"Digite a nota da Prova 1:\"))\n",
        "P2 = int(input(\"Digite a nota da Prova 2:\"))\n",
        "\n",
        "nota_final = ((T1+T2+T3)*0.3)/3.0 + ((P1+P2)*0.7)/2.0\n",
        "\n",
        "print(\"Sua nota final eh: \")\n",
        "print(nota_final)"
      ],
      "metadata": {
        "colab": {
          "base_uri": "https://localhost:8080/"
        },
        "id": "sJ5TjEUYZulM",
        "outputId": "4fc94b47-8428-489f-95f9-c954e0de5b4f"
      },
      "execution_count": null,
      "outputs": [
        {
          "output_type": "stream",
          "name": "stdout",
          "text": [
            "Digite a nota do Trabalho1:10\n",
            "Digite a nota do Trabalho2:10\n",
            "Digite a nota do Trabalho3:10\n",
            "Digite a nota da Prova 1:8\n",
            "Digite a nota da Prova 2:8\n",
            "Sua nota final eh: \n",
            "8.6\n"
          ]
        }
      ]
    },
    {
      "cell_type": "markdown",
      "source": [
        "4 - Escreva um programa que leia 10 números inteiros, armazene-os em um vetor e\n",
        "mostre-os em ordem inversa na tela."
      ],
      "metadata": {
        "id": "LDkhIAWbaX90"
      }
    },
    {
      "cell_type": "code",
      "source": [
        "lista  = [ ]\n",
        "i = 0\n",
        "while i < 10:\n",
        "  x = int(input(\"Digite o valor:\"))\n",
        "  lista.append(x)\n",
        "  i = i + 1\n",
        "\n",
        "i = 9\n",
        "while i >= 0:\n",
        "  print(lista[i])\n",
        "  i = i - 1\n",
        "\n",
        "print(lista)"
      ],
      "metadata": {
        "colab": {
          "base_uri": "https://localhost:8080/"
        },
        "id": "dwgdbInXaaiz",
        "outputId": "da6f805b-4712-4280-8339-c2d8d3a6ef24"
      },
      "execution_count": null,
      "outputs": [
        {
          "output_type": "stream",
          "name": "stdout",
          "text": [
            "Digite o valor:110\n",
            "Digite o valor:200\n",
            "Digite o valor:300\n",
            "Digite o valor:400\n",
            "Digite o valor:157\n",
            "Digite o valor:222\n",
            "Digite o valor:123\n",
            "Digite o valor:321\n",
            "Digite o valor:666\n",
            "Digite o valor:555\n",
            "555\n",
            "666\n",
            "321\n",
            "123\n",
            "222\n",
            "157\n",
            "400\n",
            "300\n",
            "200\n",
            "110\n",
            "[110, 200, 300, 400, 157, 222, 123, 321, 666, 555]\n"
          ]
        }
      ]
    },
    {
      "cell_type": "markdown",
      "source": [
        "5 - Escreva um programa que gere 10 números aleatórios, armazene-os em um vetor,\n",
        "e mostre os números na tela."
      ],
      "metadata": {
        "id": "CnISoA72a70G"
      }
    },
    {
      "cell_type": "code",
      "source": [
        "import random\n",
        "\n",
        "lista  = [ ]\n",
        "i = 0\n",
        "while i < 10:\n",
        "  x = random.randint(0, 10)\n",
        "  lista.append(x)\n",
        "  i = i + 1\n",
        "\n",
        "print(lista)\n"
      ],
      "metadata": {
        "colab": {
          "base_uri": "https://localhost:8080/"
        },
        "id": "ioUXmHF2a7oO",
        "outputId": "3b0da0f9-c006-473e-b7c9-7cfecc864b71"
      },
      "execution_count": null,
      "outputs": [
        {
          "output_type": "stream",
          "name": "stdout",
          "text": [
            "[6, 0, 1, 9, 6, 1, 10, 5, 6, 10]\n"
          ]
        }
      ]
    },
    {
      "cell_type": "markdown",
      "source": [
        "6 - Escreva um programa que gere 10 números aleatórios, armazene os números pares\n",
        "em um vetor, chamado par, e armazene os números impares em um vetor, chamado impar.\n",
        "Depois disso, mostre o vetor impar e o vetor par na tela\n"
      ],
      "metadata": {
        "id": "VfMrZNiUcOdZ"
      }
    },
    {
      "cell_type": "code",
      "source": [
        "import random\n",
        "\n",
        "par  = [ ]\n",
        "impar  = [ ]\n",
        "i = 0\n",
        "while i < 10:\n",
        "  x = random.randint(0, 100)\n",
        "  if x % 2 == 0:\n",
        "    par.append(x)\n",
        "  else:\n",
        "    impar.append(x)\n",
        "  i = i + 1\n",
        "\n",
        "print(\"Vetor de numeros pares:\")\n",
        "print(par)\n",
        "\n",
        "print(\"Vetor de numeros impares:\")\n",
        "print(impar)\n"
      ],
      "metadata": {
        "colab": {
          "base_uri": "https://localhost:8080/"
        },
        "id": "lzvCj8tVcP0h",
        "outputId": "9520a2ca-3e6f-465a-87c7-88218aa7638d"
      },
      "execution_count": null,
      "outputs": [
        {
          "output_type": "stream",
          "name": "stdout",
          "text": [
            "Vetor de numeros pares:\n",
            "[48, 10, 68, 24, 52]\n",
            "Vetor de numeros impares:\n",
            "[93, 47, 59, 35, 65]\n"
          ]
        }
      ]
    },
    {
      "cell_type": "markdown",
      "source": [
        "7 - Escreva um programa que gere dois vetores, denominados A e B, contendo 10\n",
        "números aleatórios cada. Crie um terceiro vetor para armazenar 10 elementos, cujo\n",
        "conteúdo deve ser a soma dos elementos dos vetores A e B que tenham mesmo índice."
      ],
      "metadata": {
        "id": "Ux31lJYclmuJ"
      }
    },
    {
      "cell_type": "code",
      "source": [
        "import random\n",
        "\n",
        "A  = [ ]\n",
        "B  = [ ]\n",
        "C  = [ ]\n",
        "i = 0\n",
        "while i < 10:\n",
        "  A.append(random.randint(0, 100))\n",
        "  B.append(random.randint(0, 100))\n",
        "  i = i + 1\n",
        "\n",
        "i = 0\n",
        "while i < 10:\n",
        "  C.append(0)\n",
        "  C[i] = A[i] + B[i]\n",
        "  i = i + 1\n",
        "\n",
        "\n",
        "print(A)\n",
        "print(B)\n",
        "print(C)\n",
        "\n"
      ],
      "metadata": {
        "colab": {
          "base_uri": "https://localhost:8080/"
        },
        "id": "DRV9Pm8Dlpto",
        "outputId": "83f31ed9-db28-4c38-8739-23b0bcf58a0f"
      },
      "execution_count": null,
      "outputs": [
        {
          "output_type": "stream",
          "name": "stdout",
          "text": [
            "[30, 80, 40, 10, 93, 19, 64, 32, 49, 63]\n",
            "[49, 77, 44, 73, 31, 43, 6, 45, 84, 13]\n",
            "[79, 157, 84, 83, 124, 62, 70, 77, 133, 76]\n"
          ]
        }
      ]
    },
    {
      "cell_type": "markdown",
      "source": [
        "8 - Escreva um programa que tenha dois vetores, sendo que o primeiro deve armazenar\n",
        "números inteiros e o segundo deve armazenar nomes. O usuário deve fornecer a idade e o\n",
        "nome de 10 pessoas e o programa deve armazenar essas informações nos vetores. Depois\n",
        "de armazenar todos os dados verifique e mostre na tela de forma separada, a lista de\n",
        "pessoas menores de idade e a lista de pessoas maiores de idade"
      ],
      "metadata": {
        "id": "tDMnc6XnmaHB"
      }
    },
    {
      "cell_type": "code",
      "source": [
        "nomes  = [ ]\n",
        "idade  = [ ]\n",
        "\n",
        "i = 0\n",
        "while i < 10:\n",
        "  nomes.append( str(input(\"Digite o nome da pessoa: \")))\n",
        "  idade.append(int(input(\"Digite a idade da pessoa: \")))\n",
        "  i = i + 1\n",
        "\n",
        "i = 0\n",
        "while i < 10:\n",
        "  if idade[i] >= 18:\n",
        "    print(\"Pessoa Maior de Idade\", nomes[i], \" tem \", idade[i], \" anos. \" )\n",
        "  i = i + 1\n",
        "\n",
        "i = 0\n",
        "while i < 10:\n",
        "  if idade[i] < 18:\n",
        "    print(\"Pessoa Menor de Idade\", nomes[i], \" tem \", idade[i], \" anos. \" )\n",
        "  i = i + 1"
      ],
      "metadata": {
        "colab": {
          "base_uri": "https://localhost:8080/",
          "height": 409
        },
        "id": "6b1qh5iCmZsy",
        "outputId": "7b499fd0-3bc0-4f33-ca41-f4f0d898315a"
      },
      "execution_count": null,
      "outputs": [
        {
          "output_type": "error",
          "ename": "KeyboardInterrupt",
          "evalue": "ignored",
          "traceback": [
            "\u001b[0;31m---------------------------------------------------------------------------\u001b[0m",
            "\u001b[0;31mKeyboardInterrupt\u001b[0m                         Traceback (most recent call last)",
            "\u001b[0;32m<ipython-input-44-c15a1f57bd85>\u001b[0m in \u001b[0;36m<cell line: 5>\u001b[0;34m()\u001b[0m\n\u001b[1;32m      4\u001b[0m \u001b[0mi\u001b[0m \u001b[0;34m=\u001b[0m \u001b[0;36m0\u001b[0m\u001b[0;34m\u001b[0m\u001b[0;34m\u001b[0m\u001b[0m\n\u001b[1;32m      5\u001b[0m \u001b[0;32mwhile\u001b[0m \u001b[0mi\u001b[0m \u001b[0;34m<\u001b[0m \u001b[0;36m10\u001b[0m\u001b[0;34m:\u001b[0m\u001b[0;34m\u001b[0m\u001b[0;34m\u001b[0m\u001b[0m\n\u001b[0;32m----> 6\u001b[0;31m   \u001b[0mnomes\u001b[0m\u001b[0;34m.\u001b[0m\u001b[0mappend\u001b[0m\u001b[0;34m(\u001b[0m \u001b[0mstr\u001b[0m\u001b[0;34m(\u001b[0m\u001b[0minput\u001b[0m\u001b[0;34m(\u001b[0m\u001b[0;34m\"Digite o nome da pessoa: \"\u001b[0m\u001b[0;34m)\u001b[0m\u001b[0;34m)\u001b[0m\u001b[0;34m)\u001b[0m\u001b[0;34m\u001b[0m\u001b[0;34m\u001b[0m\u001b[0m\n\u001b[0m\u001b[1;32m      7\u001b[0m   \u001b[0midade\u001b[0m\u001b[0;34m.\u001b[0m\u001b[0mappend\u001b[0m\u001b[0;34m(\u001b[0m\u001b[0mint\u001b[0m\u001b[0;34m(\u001b[0m\u001b[0minput\u001b[0m\u001b[0;34m(\u001b[0m\u001b[0;34m\"Digite a idade da pessoa: \"\u001b[0m\u001b[0;34m)\u001b[0m\u001b[0;34m)\u001b[0m\u001b[0;34m)\u001b[0m\u001b[0;34m\u001b[0m\u001b[0;34m\u001b[0m\u001b[0m\n\u001b[1;32m      8\u001b[0m   \u001b[0mi\u001b[0m \u001b[0;34m=\u001b[0m \u001b[0mi\u001b[0m \u001b[0;34m+\u001b[0m \u001b[0;36m1\u001b[0m\u001b[0;34m\u001b[0m\u001b[0;34m\u001b[0m\u001b[0m\n",
            "\u001b[0;32m/usr/local/lib/python3.10/dist-packages/ipykernel/kernelbase.py\u001b[0m in \u001b[0;36mraw_input\u001b[0;34m(self, prompt)\u001b[0m\n\u001b[1;32m    849\u001b[0m                 \u001b[0;34m\"raw_input was called, but this frontend does not support input requests.\"\u001b[0m\u001b[0;34m\u001b[0m\u001b[0;34m\u001b[0m\u001b[0m\n\u001b[1;32m    850\u001b[0m             )\n\u001b[0;32m--> 851\u001b[0;31m         return self._input_request(str(prompt),\n\u001b[0m\u001b[1;32m    852\u001b[0m             \u001b[0mself\u001b[0m\u001b[0;34m.\u001b[0m\u001b[0m_parent_ident\u001b[0m\u001b[0;34m,\u001b[0m\u001b[0;34m\u001b[0m\u001b[0;34m\u001b[0m\u001b[0m\n\u001b[1;32m    853\u001b[0m             \u001b[0mself\u001b[0m\u001b[0;34m.\u001b[0m\u001b[0m_parent_header\u001b[0m\u001b[0;34m,\u001b[0m\u001b[0;34m\u001b[0m\u001b[0;34m\u001b[0m\u001b[0m\n",
            "\u001b[0;32m/usr/local/lib/python3.10/dist-packages/ipykernel/kernelbase.py\u001b[0m in \u001b[0;36m_input_request\u001b[0;34m(self, prompt, ident, parent, password)\u001b[0m\n\u001b[1;32m    893\u001b[0m             \u001b[0;32mexcept\u001b[0m \u001b[0mKeyboardInterrupt\u001b[0m\u001b[0;34m:\u001b[0m\u001b[0;34m\u001b[0m\u001b[0;34m\u001b[0m\u001b[0m\n\u001b[1;32m    894\u001b[0m                 \u001b[0;31m# re-raise KeyboardInterrupt, to truncate traceback\u001b[0m\u001b[0;34m\u001b[0m\u001b[0;34m\u001b[0m\u001b[0m\n\u001b[0;32m--> 895\u001b[0;31m                 \u001b[0;32mraise\u001b[0m \u001b[0mKeyboardInterrupt\u001b[0m\u001b[0;34m(\u001b[0m\u001b[0;34m\"Interrupted by user\"\u001b[0m\u001b[0;34m)\u001b[0m \u001b[0;32mfrom\u001b[0m \u001b[0;32mNone\u001b[0m\u001b[0;34m\u001b[0m\u001b[0;34m\u001b[0m\u001b[0m\n\u001b[0m\u001b[1;32m    896\u001b[0m             \u001b[0;32mexcept\u001b[0m \u001b[0mException\u001b[0m \u001b[0;32mas\u001b[0m \u001b[0me\u001b[0m\u001b[0;34m:\u001b[0m\u001b[0;34m\u001b[0m\u001b[0;34m\u001b[0m\u001b[0m\n\u001b[1;32m    897\u001b[0m                 \u001b[0mself\u001b[0m\u001b[0;34m.\u001b[0m\u001b[0mlog\u001b[0m\u001b[0;34m.\u001b[0m\u001b[0mwarning\u001b[0m\u001b[0;34m(\u001b[0m\u001b[0;34m\"Invalid Message:\"\u001b[0m\u001b[0;34m,\u001b[0m \u001b[0mexc_info\u001b[0m\u001b[0;34m=\u001b[0m\u001b[0;32mTrue\u001b[0m\u001b[0;34m)\u001b[0m\u001b[0;34m\u001b[0m\u001b[0;34m\u001b[0m\u001b[0m\n",
            "\u001b[0;31mKeyboardInterrupt\u001b[0m: Interrupted by user"
          ]
        }
      ]
    },
    {
      "cell_type": "code",
      "source": [
        "\n",
        "print(thisdict[\"year\"])"
      ],
      "metadata": {
        "colab": {
          "base_uri": "https://localhost:8080/"
        },
        "id": "4eomkgQlpTAs",
        "outputId": "d45d907b-b7c5-4b24-9a21-a3fefb9eb8ab"
      },
      "execution_count": null,
      "outputs": [
        {
          "output_type": "stream",
          "name": "stdout",
          "text": [
            "1964\n"
          ]
        }
      ]
    },
    {
      "cell_type": "code",
      "source": [
        "\n",
        "f = open(\"primeiro_arquivo.json\", \"a\")\n",
        "\n",
        "thisdict = {\n",
        "  \"brand\": \"Ford\",\n",
        "  \"model\": \"Mustang\",\n",
        "  \"year\": 1964\n",
        "}\n",
        "\n",
        "\n",
        "f.write(str(thisdict))\n",
        "\n",
        "\n",
        "\n",
        "\n",
        "f.close()"
      ],
      "metadata": {
        "id": "UmTsNj07sYNi"
      },
      "execution_count": null,
      "outputs": []
    },
    {
      "cell_type": "code",
      "source": [
        "f = open(\"primeiro_arquivo.txt\", \"r\")\n",
        "\n",
        "texto = f.read()\n",
        "\n",
        "texto = texto.split()\n",
        "\n",
        "print(texto)"
      ],
      "metadata": {
        "colab": {
          "base_uri": "https://localhost:8080/"
        },
        "id": "_saHFGXNsr66",
        "outputId": "4593b11a-87e8-449e-8032-75f5a9b8997a"
      },
      "execution_count": null,
      "outputs": [
        {
          "output_type": "stream",
          "name": "stdout",
          "text": [
            "['Esse', 'eh', 'o', 'meu', 'primeiro', 'texto', 'no', 'arquivo!']\n"
          ]
        }
      ]
    }
  ]
}