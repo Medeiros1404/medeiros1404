{
  "nbformat": 4,
  "nbformat_minor": 0,
  "metadata": {
    "colab": {
      "provenance": [],
      "authorship_tag": "ABX9TyN2a/E2xQjQ68krgBaPhjLs",
      "include_colab_link": true
    },
    "kernelspec": {
      "name": "python3",
      "display_name": "Python 3"
    },
    "language_info": {
      "name": "python"
    }
  },
  "cells": [
    {
      "cell_type": "markdown",
      "metadata": {
        "id": "view-in-github",
        "colab_type": "text"
      },
      "source": [
        "<a href=\"https://colab.research.google.com/github/Medeiros1404/medeiros1404/blob/main/aula_21_08_2023.ipynb\" target=\"_parent\"><img src=\"https://colab.research.google.com/assets/colab-badge.svg\" alt=\"Open In Colab\"/></a>"
      ]
    },
    {
      "cell_type": "code",
      "execution_count": 1,
      "metadata": {
        "colab": {
          "base_uri": "https://localhost:8080/"
        },
        "id": "MOzqPYGtSxJ7",
        "outputId": "264810ec-e180-4422-fe63-4e2d550cf3db"
      },
      "outputs": [
        {
          "output_type": "stream",
          "name": "stdout",
          "text": [
            "final final\n",
            "digite a nota da prova10\n",
            "digite a nota da prova5\n",
            "digite a nota da prova3\n",
            "[10, 5, 3]\n",
            "digite a nota do trabalho5\n",
            "digite a nota do trabalho6\n",
            "digite a nota do trabalho7\n",
            "[5, 6, 7]\n",
            "18\n",
            "18\n",
            "nota final 6.0\n"
          ]
        }
      ],
      "source": [
        "print(\"final final\")\n",
        "\n",
        "nota = []\n",
        "\n",
        "nota2= []\n",
        "\n",
        "for i in range (3):\n",
        "    nota.append(int(input(f\"digite a nota da prova\")))\n",
        "print(nota)\n",
        "for e in range (3):\n",
        "    nota2.append(int(input(f\"digite a nota do trabalho\")))\n",
        "print(nota2)\n",
        "\n",
        "n1=sum(nota)\n",
        "print(n1)\n",
        "\n",
        "n2=sum(nota2)\n",
        "print(n2)\n",
        "\n",
        "nf= (n1/3.0 + n2/3.0)/2\n",
        "print(\"nota final\",nf)"
      ]
    },
    {
      "cell_type": "code",
      "source": [],
      "metadata": {
        "colab": {
          "base_uri": "https://localhost:8080/"
        },
        "id": "0sJDBzNBkYAq",
        "outputId": "5a2dc7e3-088e-4d8f-8c63-12302a8957fa"
      },
      "execution_count": 11,
      "outputs": [
        {
          "output_type": "stream",
          "name": "stdout",
          "text": [
            "4\n"
          ]
        }
      ]
    }
  ]
}