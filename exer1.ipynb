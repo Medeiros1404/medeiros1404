{
  "nbformat": 4,
  "nbformat_minor": 0,
  "metadata": {
    "colab": {
      "provenance": [],
      "authorship_tag": "ABX9TyNmvlLq7B0iimZReRX7YS5O",
      "include_colab_link": true
    },
    "kernelspec": {
      "name": "python3",
      "display_name": "Python 3"
    },
    "language_info": {
      "name": "python"
    }
  },
  "cells": [
    {
      "cell_type": "markdown",
      "metadata": {
        "id": "view-in-github",
        "colab_type": "text"
      },
      "source": [
        "<a href=\"https://colab.research.google.com/github/Medeiros1404/medeiros1404/blob/main/exer1.ipynb\" target=\"_parent\"><img src=\"https://colab.research.google.com/assets/colab-badge.svg\" alt=\"Open In Colab\"/></a>"
      ]
    },
    {
      "cell_type": "code",
      "execution_count": null,
      "metadata": {
        "id": "dy3YG4jfPevI"
      },
      "outputs": [],
      "source": [
        "lista = [ ]\n",
        "i = 0\n",
        "while i < 10:\n",
        "  x = int(input(\"digite o valor\"))\n",
        "  lista.append(x)\n",
        "  i = i + 1\n",
        "\n",
        "  print(lista)\n",
        "\n",
        "\n"
      ]
    },
    {
      "cell_type": "code",
      "source": [
        "lista  = [ ]\n",
        "i = 0\n",
        "while i < 15:\n",
        "  x = int(input(\"Digite o valor:\"))\n",
        "  lista.append(x)\n",
        "  i = i + 1"
      ],
      "metadata": {
        "id": "Ust2NLivSgPk"
      },
      "execution_count": null,
      "outputs": []
    },
    {
      "cell_type": "code",
      "source": [
        "print(\"final final\")\n",
        "\n",
        "nota = []\n",
        "\n",
        "nota2= []\n",
        "\n",
        "for i in range (3):\n",
        "    nota.append(int(input(f\"digite a nota da prova\")))\n",
        "print(nota)\n",
        "for e in range (3):\n",
        "    nota2.append(int(input(f\"digite a nota do trabalho\")))\n",
        "print(nota2)\n",
        "\n",
        "n1=sum(nota)\n",
        "print(n1)\n",
        "\n",
        "n2=sum(nota2)\n",
        "print(n2)\n",
        "\n",
        "nf= (n1/3.0 + n2/3.0)/2\n",
        "print(\"nota final\",nf)"
      ],
      "metadata": {
        "colab": {
          "base_uri": "https://localhost:8080/"
        },
        "id": "wPSnGeVNYcFL",
        "outputId": "fb46a8e0-ebbc-4a19-d158-6b5302d48da7"
      },
      "execution_count": 7,
      "outputs": [
        {
          "output_type": "stream",
          "name": "stdout",
          "text": [
            "final final\n",
            "digite a nota da prova5\n",
            "digite a nota da prova5\n",
            "digite a nota da prova5\n",
            "[5, 5, 5]\n",
            "digite a nota do trabalho6\n",
            "digite a nota do trabalho6\n",
            "digite a nota do trabalho6\n",
            "[6, 6, 6]\n",
            "15\n",
            "18\n",
            "nota final 5.5\n"
          ]
        }
      ]
    }
  ]
}